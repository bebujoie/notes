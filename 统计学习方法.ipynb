{
 "cells": [
  {
   "cell_type": "markdown",
   "metadata": {},
   "source": [
    "## 数据集加载工具\n",
    "`sklearn.datasets`子包主要用于数据集加载和生成。\n",
    "### Toy datasets\n",
    "scikit-learn内置了几个标准数据集，可以使用相应的函数进行加载。\n",
    "1. Boston house prices datasets\n",
    "2. Iris plants datasets\n",
    "```python\n",
    "    函数：sklearn.datasets.load_iris(*, return_X_y=False, as_frame=False)\n",
    "    功能：加载和返回iris数据集（多分类数据集）\n",
    "    参数：\n",
    "        return_X_y(bool,default=False)：如果为True，返回(data,target)而不是bunch对象  \n",
    "        as_frame(bool,default=False)：如果为True，数据为pandas数据框架\n",
    "    返回：\n",
    "        bunch对象：类似dict的数据结构，主要有下列属性\n",
    "            data：数据矩阵(150,4)\n",
    "            target：分类目标(150,)\n",
    "            feature_names：数据集列名称(list)\n",
    "            target_names：目标类名称(list)\n",
    "            frame：\n",
    "            DESCR：数据集描述\n",
    "            filename：数据集的路径\n",
    "        (data,target)元组\n",
    "```\n",
    "3. Diabetes datasets\n",
    "4. Optical recognition of handwritten digits datasets\n",
    "5. Linnerrud datasets\n",
    "6. Wine recognition datasets\n",
    "7. Breast cancer wisconsin (diagnostic) datasets\n",
    "### Real world datasets\n",
    "scikit-learn提供了加载大型数据集的工具\n",
    "1. The Olivetti faces dataset\n",
    "2. The 20 newsgroups text dataset\n",
    "3. The Labeled Faces in the Wild face recognition dataset\n",
    "4. Forest covertypes dataset\n",
    "5. RCV1 dataset\n",
    "6. Kddcup 99 datase\n",
    "7. California Housing dataset\n",
    "### Generated datasets\n",
    "scikit-learn提供了随机样本生成器，可以通过控制数据集规模和复杂度构建人造数据集。\n",
    "1. Generators for classification and clustering\n",
    "2. Generators for regression\n",
    "3. Generators for manifold learning\n",
    "4. Generators for decomposition\n",
    "### Loading other datasets\n",
    "1. Sample images\n",
    "2. Datasets in svmlight / libsvm format\n",
    "3. Downloading datasets from the openml.org repository\n",
    "4. Loading from external datasets\n",
    "### Bunch object\n",
    "数据集加载成功后返回的数据对象，是字典类型的扩展。\n"
   ]
  },
  {
   "cell_type": "markdown",
   "metadata": {},
   "source": [
    "## Perceptron(感知机)"
   ]
  },
  {
   "cell_type": "code",
   "execution_count": 1,
   "metadata": {},
   "outputs": [
    {
     "data": {
      "text/plain": [
       "Text(0.5, 1.0, 'Perceptron Classifier')"
      ]
     },
     "execution_count": 1,
     "metadata": {},
     "output_type": "execute_result"
    },
    {
     "data": {
      "image/png": "[encoded data removed]",
      "text/plain": [
       "<Figure size 432x288 with 1 Axes>"
      ]
     },
     "metadata": {
      "needs_background": "light"
     },
     "output_type": "display_data"
    }
   ],
   "source": [
    "# 用感知机对iris数据集进行分类\n",
    "%matplotlib inline\n",
    "import sklearn.datasets as skd\n",
    "import matplotlib.pyplot as plt\n",
    "import sklearn.linear_model as skl\n",
    "import numpy as np\n",
    "\n",
    "# 加载数据集\n",
    "datesets=skd.load_iris()\n",
    "data=datesets['data']\n",
    "\n",
    "# 将数据集的前两个属性作为输入进行感知机分类\n",
    "plt.scatter(data[:50,0],data[:50,1],label='setosa')\n",
    "plt.scatter(data[50:100,0],data[50:100,1],label='versicolor')\n",
    "\n",
    "X=data[:100,0:2]\n",
    "y=np.array([-1]*50+[1]*50)\n",
    "percep=skl.Perceptron(tol=None)\n",
    "percep.fit(X,y)\n",
    "\n",
    "# 拟合得到的多项式和截距\n",
    "w=percep.coef_\n",
    "b=percep.intercept_\n",
    "\n",
    "x=np.arange(4,8)\n",
    "y_=-(w[0,0]*x+b)/w[0,1]\n",
    "\n",
    "plt.plot(x,y_,label='perceptron')\n",
    "plt.legend()\n",
    "plt.xlabel('sepal_length')\n",
    "plt.ylabel('sepal_width')\n",
    "plt.title('Perceptron Classifier')\n"
   ]
  },
  {
   "cell_type": "markdown",
   "metadata": {},
   "source": [
    "## KNN\n",
    "`sklearn.neighbors`模块实现了k近邻算法，无监督k近邻是流形学习（manifold learning）和谱聚类（spectral clustering）的基础，监督k近邻主要用于数据分类和回归.\n",
    "### 无监督k近邻\n",
    "无监督k近邻学习实现了3种不同的算法：**BallTree、KDTree和Brute-force**，通过关键字`algorithm=['auto','ball_tree','kd_tree','brute']`选择相应的算法。\n",
    "1. sklearn.neighbors.NearestNeighbors  \n",
    "   无监督学习器，实现近邻搜索。\n",
    "   ```\n",
    "   参数：\n",
    "      - n_neighbors：要查到的近邻数量\n",
    "      - radius：要查找的近邻半径\n",
    "      - algorithm：找算法（‘auto’, ‘ball_tree’, ‘kd_tree’, ‘brute’）\n",
    "      - leaf_size：叶节点的大小（叶节点包含的实例数）\n",
    "      - metric：距离的度量，默认使用Lp距离\n",
    "      - p：默认为2，即欧几里得距离\n",
    "      - metric_params：dict类型，与metric有关\n",
    "      - n_jobs：并行执行近邻搜索的数量\n",
    "   属性：\n",
    "      - effective_metric_\n",
    "      - effective_metric_params_\n",
    "      - n_features_in_\n",
    "      - feature_names_in_\n",
    "      - n_samples_fit_\n",
    "   方法：\n",
    "      - fit()：根据算法类型对训练数据拟合近邻估计器（nearest neighbors estimator）\n",
    "      - get_params()：获取估计器的参数\n",
    "      - kneighbors()：查找k个近邻点，返回每个点的距离和索引\n",
    "      - kneighbors_graph()：\n",
    "      - radius_neighbors()：查找半径r的近邻点\n",
    "      - radius_neighbors_graph()：\n",
    "      - set_params()\n",
    "   ```\n",
    "2. sklearn.neighbors.KDTree  \n",
    "   快速生成KD树.\n",
    "   ```\n",
    "   参数：\n",
    "      - X：生成kd树的数据集\n",
    "      - leaf_size：叶子节点的大小（包含的实例数），在叶子结点内使用蛮算\n",
    "      - metric\n",
    "   属性：\n",
    "      - data：训练集\n",
    "   方法：\n",
    "      - get_arrays()：数据和节点数组\n",
    "      - get_n_calls()：距离计算调用的次数\n",
    "      - get_tree_stats()：树的参数\n",
    "      - query()\n",
    "      - query_radius()\n",
    "      - two_point_correlation()\n",
    "   ```\n",
    "3. sklearn.neighbors.BallTree\n",
    "4. 算法的选择\n",
    "   - 样本数N和维数D（$N<30$选择蛮算）\n",
    "   - 数据结构\n",
    "   - k的值\n",
    "   - 查询点的数量\n",
    "### k近邻分类\n",
    "k近邻分类学习包含了2种不同的k近邻分类器：**KNeighborsClassifier和RadiusNeighborsClassifier**，前者查找实例点的k个最近邻点，后者在实例点为圆心、半径为r的圆中查找近邻点；在k近邻分类中可以通过参数`weights=['uniform','distance']`控制每个近邻点的权重.\n",
    "1. sklearn.neighbors.KNeighborsClassifier\n",
    "   ```\n",
    "   参数：\n",
    "      - n_neighbors\n",
    "      - weights\n",
    "      - algorithm\n",
    "      - leaf_size\n",
    "      - p\n",
    "      - metric\n",
    "      - metric_params\n",
    "      - n_jobs\n",
    "   属性：\n",
    "      - classes_\n",
    "      - effective_metric_\n",
    "      - effective_metric_params_\n",
    "      - n_features_in_\n",
    "      - feature_names_in_\n",
    "      - n_samples_fit_\n",
    "      - outputs_2d_\n",
    "   方法：\n",
    "      - fit()\n",
    "      - get_params()\n",
    "      - kneighbors()\n",
    "      - kneighbors_graph()\n",
    "      - predict()\n",
    "      - predict_proba()\n",
    "      - score()\n",
    "      - set_params()\n",
    "   ```\n",
    "2. sklearn.neighbors.RadiusNeighborsClassifier\n",
    "   ```\n",
    "   参数：\n",
    "      - radius\n",
    "      - weights\n",
    "      - algorithm\n",
    "      - leaf_size\n",
    "      - p\n",
    "      - metric\n",
    "      - outlier_label:在半径范围内没有近邻时的选择\n",
    "      - metric_params\n",
    "      - n_jobs\n",
    "   属性：\n",
    "      - classes_\n",
    "      - effective_metric_\n",
    "      - effective_metric_params_\n",
    "      - n_features_in_\n",
    "      - feature_names_in_\n",
    "      - n_samples_fit_\n",
    "      - outlier_label_\n",
    "      - outputs_2d_\n",
    "   方法：\n",
    "      - fit()\n",
    "      - get_params()\n",
    "      - radius_neighbors()\n",
    "      - radius_neighbors_graph()\n",
    "      - predict()\n",
    "      - predict_proba()\n",
    "      - score()\n",
    "      - set_params()\n",
    "   ```\n",
    "### k近邻回归\n",
    "k近邻回归学习实现了2种不同的k近邻回归器：**KNeighborsRegressor和RadiusNeighborsRegressor**\n",
    "1. sklearn.neighbors.KNeighborsRegressor \n",
    "2. sklearn.neighbors.RadiusNeighborsRegressor\n",
    "### 近质心分类器(Nearest Centroid Classifier)\n",
    "### (Nearest Neighbors Transformer)\n",
    "### 邻域成分分析(Neighborhood Components Analysis)"
   ]
  },
  {
   "cell_type": "code",
   "execution_count": 8,
   "metadata": {},
   "outputs": [
    {
     "data": {
      "text/plain": [
       "Text(0, 0.5, 'sepal width (cm)')"
      ]
     },
     "execution_count": 8,
     "metadata": {},
     "output_type": "execute_result"
    },
    {
     "data": {
      "image/png": "[encoded data removed]",
      "text/plain": [
       "<Figure size 432x288 with 2 Axes>"
      ]
     },
     "metadata": {
      "needs_background": "light"
     },
     "output_type": "display_data"
    }
   ],
   "source": [
    "%matplotlib inline\n",
    "import numpy as np\n",
    "import matplotlib.pyplot as plt\n",
    "import sklearn.datasets as skd\n",
    "import sklearn.neighbors as skn\n",
    "\n",
    "n_neighbors=10\n",
    "h=0.02\n",
    "# 加载iris数据集\n",
    "iris=skd.load_iris()\n",
    "X=iris.data[:,:2]\n",
    "y=iris.target\n",
    "\n",
    "# 创建k近邻分类器并学习数据集\n",
    "clf=skn.KNeighborsClassifier(n_neighbors=n_neighbors,algorithm='kd_tree')\n",
    "clr=skn.RadiusNeighborsClassifier(radius=1,algorithm='kd_tree',outlier_label='most_frequent')\n",
    "clf.fit(X,y)\n",
    "clr.fit(X,y)\n",
    "\n",
    "# 对新的数据进行预测并划分三个分类区域\n",
    "x_min,x_max=X[:,0].min()-1,X[:,0].max()+1\n",
    "y_min,y_max=X[:,1].min()-1,X[:,1].max()+1\n",
    "\n",
    "# meshgird函数使用数组生成网格\n",
    "xx,yy=np.meshgrid(np.arange(x_min,x_max,h),np.arange(y_min,y_max,h))\n",
    "Z1=clf.predict(np.column_stack((xx.ravel(),yy.ravel())))\n",
    "Z2=clr.predict(np.column_stack((xx.ravel(),yy.ravel())))\n",
    "\n",
    "# 绘制等高线\n",
    "plt.subplot(1,2,1)\n",
    "plt.contourf(xx,yy,Z1.reshape(xx.shape))\n",
    "plt.scatter(X[:50,0],X[:50,1])\n",
    "plt.scatter(X[50:100,0],X[50:100,1])\n",
    "plt.scatter(X[100:,0],X[100:,1])\n",
    "plt.title('k-nn classifier')\n",
    "plt.xlabel(iris.feature_names[0])\n",
    "plt.ylabel(iris.feature_names[1])\n",
    "\n",
    "plt.subplot(1,2,2)\n",
    "plt.contourf(xx,yy,Z2.reshape(xx.shape))\n",
    "plt.scatter(X[:50,0],X[:50,1])\n",
    "plt.scatter(X[50:100,0],X[50:100,1])\n",
    "plt.scatter(X[100:,0],X[100:,1])\n",
    "plt.title('k-nn classifier')\n",
    "plt.xlabel(iris.feature_names[0])\n",
    "plt.ylabel(iris.feature_names[1])"
   ]
  },
  {
   "cell_type": "markdown",
   "metadata": {},
   "source": [
    "## 朴素贝叶斯\n",
    "`sklearn.naive_bayes`模块实现了朴素贝叶斯算法——一种基于贝叶斯特征独立假设的有监督学习方法.\n",
    "### 高斯朴素贝叶斯(Gaussian Naive Bayes)\n",
    "`GaussianNB`类实现了高斯朴素贝叶斯分类算法，假设所有特征相互独立且服从高斯分布，参数$\\sigma_y$和$\\mu_y$使用最大似然方法估计：\n",
    "$$P(x_i|y)=\\frac{1}{\\sqrt{2\\pi\\sigma_{y}^2}}exp(-\\frac{(x_i-\\mu_y)^2}{2\\sigma_{y}^2})$$\n",
    "```\n",
    "    参数：\n",
    "        - priors：类的先验概率，如果指定该值，学习中不在利用数据进行调整\n",
    "        - var_smoothing：平滑变量\n",
    "    属性：\n",
    "        - var_：特征的方差\n",
    "        - theta_：特征的均值\n",
    "    函数：\n",
    "        - fit(X,y)\n",
    "        - get_params()\n",
    "        - partial_fit()：对一批样本进行增量拟合（更新模型参数）\n",
    "        - predict()\n",
    "        - predict_log_proba()\n",
    "        - predict_proba()\n",
    "        - score()\n",
    "        - set_params()\n",
    "```\n",
    "### 多项式朴素贝叶斯( Multinomial Naive Bayes)\n",
    "`MultinomialNB`类实现了多项分布的朴素贝叶斯算法，是文本分类的典型朴素贝叶斯算法。\n",
    "### 补充朴素贝叶斯(Complement Naive Bayes)\n",
    "`ComplementNB`类实现了补充朴素贝叶斯（CNB）算法，是标准多项式朴素贝叶斯算法的改进，适用于不平衡数据集。\n",
    "### 伯努利朴素贝叶斯(Bernoulli Naive Bayes)\n",
    "`BernoulliNB`类实现了多重伯努利分布数据的朴素贝叶斯训练和分类算法，即输入具有多个特征但每个特征相互独立且服从二项分布（伯努利分布），此时条件概率：\n",
    "$$P(x_i|y)=P(i|y)x_i+(1-P(i|y))(1-x_i)$$\n",
    "### 分类朴素贝叶斯(Categorical Naive Bayes)\n",
    "分类朴素贝叶斯分类器适用于服从分类分布的离散特征。\n",
    "> **分类分布**  \n",
    "> 是伯努利分布的泛化，每次观察结果可能出现k个结果：$Cat_x(\\lambda)=P(x=i)=\\lambda_i$，满足$\\sum_{i=1}^k\\lambda_i=1$\n",
    "```\n",
    "    参数：\n",
    "        - alpha：平滑参数\n",
    "        - fit_prior\n",
    "        - class_prior\n",
    "        - min_categories：每个特征的最小分类数\n",
    "```\n",
    "### 朴素贝叶斯模型拟合\n",
    "朴素贝叶斯模型可以被用来处理大规模分类数据，完整的训练集无法全部加载到内存进行学习，partial_fit()方法可以用递增的方式对大规模数据集进行拟合处理。"
   ]
  },
  {
   "cell_type": "code",
   "execution_count": null,
   "metadata": {},
   "outputs": [],
   "source": [
    "# 此处应该实现一个朴素贝叶斯文本分类"
   ]
  },
  {
   "cell_type": "markdown",
   "metadata": {},
   "source": [
    "## 决策树(DTs:Decision Trees)\n",
    "`sklearn.tree`模块实现了基于决策树模型的分类和回归算法，是一种无参的监督学习方法.\n",
    "- 缺点\n",
    "  - 过拟合：通过剪枝、设置叶结点样本最小数和树的最大深度避免过拟合\n",
    "  - 结构不稳定\n",
    "  - 决策树的预测不平滑、也不连续\n",
    "  - 启发式算法(heuristic algorithms)构建的决策树不能确保全局最优\n",
    "  - 决策树表达能力有限\n",
    "### 分类\n",
    "`DecisionTreeClassifier`类实现了决策树的多分类算法。\n",
    "    ```\n",
    "    参数：\n",
    "        - criterion：生成决策树的准则，{“gini”, “entropy”}基尼指数和信息增益\n",
    "        - splitter：分割点的选择策略，{“best”, “random”}\n",
    "        - max_depth：树的深度\n",
    "        - min_samples_split：节点要被分割的样本最小数量\n",
    "    方法：\n",
    "        - apply()：\n",
    "    ```\n",
    "### 回归\n",
    "`DecisionTreeRegressor`"
   ]
  },
  {
   "cell_type": "code",
   "execution_count": 1,
   "metadata": {},
   "outputs": [
    {
     "data": {
      "image/svg+xml": "<?xml version=\"1.0\" encoding=\"UTF-8\" standalone=\"no\"?>\r\n<!DOCTYPE svg PUBLIC \"-//W3C//DTD SVG 1.1//EN\"\r\n \"http://www.w3.org/Graphics/SVG/1.1/DTD/svg11.dtd\">\r\n<!-- Generated by graphviz version 2.49.1 (20210923.0004)\r\n -->\r\n<!-- Title: Tree Pages: 1 -->\r\n<svg width=\"896pt\" height=\"671pt\"\r\n viewBox=\"0.00 0.00 896.00 671.00\" xmlns=\"http://www.w3.org/2000/svg\" xmlns:xlink=\"http://www.w3.org/1999/xlink\">\r\n<g id=\"graph0\" class=\"graph\" transform=\"scale(1 1) rotate(0) translate(4 667)\">\r\n<title>Tree</title>\r\n<polygon fill=\"white\" stroke=\"transparent\" points=\"-4,4 -4,-667 892,-667 892,4 -4,4\"/>\r\n<!-- 0 -->\r\n<g id=\"node1\" class=\"node\">\r\n<title>0</title>\r\n<path fill=\"#ffffff\" stroke=\"black\" d=\"M532,-663C532,-663 405,-663 405,-663 399,-663 393,-657 393,-651 393,-651 393,-592 393,-592 393,-586 399,-580 405,-580 405,-580 532,-580 532,-580 538,-580 544,-586 544,-592 544,-592 544,-651 544,-651 544,-657 538,-663 532,-663\"/>\r\n<text text-anchor=\"start\" x=\"401\" y=\"-647.8\" font-family=\"Helvetica,sans-Serif\" font-size=\"14.00\">petal width (cm) ≤ 0.8</text>\r\n<text text-anchor=\"start\" x=\"431\" y=\"-632.8\" font-family=\"Helvetica,sans-Serif\" font-size=\"14.00\">gini = 0.667</text>\r\n<text text-anchor=\"start\" x=\"421\" y=\"-617.8\" font-family=\"Helvetica,sans-Serif\" font-size=\"14.00\">samples = 150</text>\r\n<text text-anchor=\"start\" x=\"408\" y=\"-602.8\" font-family=\"Helvetica,sans-Serif\" font-size=\"14.00\">value = [50, 50, 50]</text>\r\n<text text-anchor=\"start\" x=\"422.5\" y=\"-587.8\" font-family=\"Helvetica,sans-Serif\" font-size=\"14.00\">class = setosa</text>\r\n</g>\r\n<!-- 1 -->\r\n<g id=\"node2\" class=\"node\">\r\n<title>1</title>\r\n<path fill=\"#e58139\" stroke=\"black\" d=\"M438,-536.5C438,-536.5 341,-536.5 341,-536.5 335,-536.5 329,-530.5 329,-524.5 329,-524.5 329,-480.5 329,-480.5 329,-474.5 335,-468.5 341,-468.5 341,-468.5 438,-468.5 438,-468.5 444,-468.5 450,-474.5 450,-480.5 450,-480.5 450,-524.5 450,-524.5 450,-530.5 444,-536.5 438,-536.5\"/>\r\n<text text-anchor=\"start\" x=\"360.5\" y=\"-521.3\" font-family=\"Helvetica,sans-Serif\" font-size=\"14.00\">gini = 0.0</text>\r\n<text text-anchor=\"start\" x=\"346\" y=\"-506.3\" font-family=\"Helvetica,sans-Serif\" font-size=\"14.00\">samples = 50</text>\r\n<text text-anchor=\"start\" x=\"337\" y=\"-491.3\" font-family=\"Helvetica,sans-Serif\" font-size=\"14.00\">value = [50, 0, 0]</text>\r\n<text text-anchor=\"start\" x=\"343.5\" y=\"-476.3\" font-family=\"Helvetica,sans-Serif\" font-size=\"14.00\">class = setosa</text>\r\n</g>\r\n<!-- 0&#45;&gt;1 -->\r\n<g id=\"edge1\" class=\"edge\">\r\n<title>0&#45;&gt;1</title>\r\n<path fill=\"none\" stroke=\"black\" d=\"M441.09,-579.91C433.49,-568.65 425.23,-556.42 417.59,-545.11\"/>\r\n<polygon fill=\"black\" stroke=\"black\" points=\"420.39,-543 411.89,-536.67 414.59,-546.91 420.39,-543\"/>\r\n<text text-anchor=\"middle\" x=\"407.14\" y=\"-557.51\" font-family=\"Helvetica,sans-Serif\" font-size=\"14.00\">True</text>\r\n</g>\r\n<!-- 2 -->\r\n<g id=\"node3\" class=\"node\">\r\n<title>2</title>\r\n<path fill=\"#ffffff\" stroke=\"black\" d=\"M615,-544C615,-544 480,-544 480,-544 474,-544 468,-538 468,-532 468,-532 468,-473 468,-473 468,-467 474,-461 480,-461 480,-461 615,-461 615,-461 621,-461 627,-467 627,-473 627,-473 627,-532 627,-532 627,-538 621,-544 615,-544\"/>\r\n<text text-anchor=\"start\" x=\"476\" y=\"-528.8\" font-family=\"Helvetica,sans-Serif\" font-size=\"14.00\">petal width (cm) ≤ 1.75</text>\r\n<text text-anchor=\"start\" x=\"518.5\" y=\"-513.8\" font-family=\"Helvetica,sans-Serif\" font-size=\"14.00\">gini = 0.5</text>\r\n<text text-anchor=\"start\" x=\"500\" y=\"-498.8\" font-family=\"Helvetica,sans-Serif\" font-size=\"14.00\">samples = 100</text>\r\n<text text-anchor=\"start\" x=\"491\" y=\"-483.8\" font-family=\"Helvetica,sans-Serif\" font-size=\"14.00\">value = [0, 50, 50]</text>\r\n<text text-anchor=\"start\" x=\"492\" y=\"-468.8\" font-family=\"Helvetica,sans-Serif\" font-size=\"14.00\">class = versicolor</text>\r\n</g>\r\n<!-- 0&#45;&gt;2 -->\r\n<g id=\"edge2\" class=\"edge\">\r\n<title>0&#45;&gt;2</title>\r\n<path fill=\"none\" stroke=\"black\" d=\"M495.91,-579.91C501.91,-571.01 508.33,-561.51 514.53,-552.33\"/>\r\n<polygon fill=\"black\" stroke=\"black\" points=\"517.44,-554.27 520.14,-544.02 511.64,-550.35 517.44,-554.27\"/>\r\n<text text-anchor=\"middle\" x=\"524.9\" y=\"-564.86\" font-family=\"Helvetica,sans-Serif\" font-size=\"14.00\">False</text>\r\n</g>\r\n<!-- 3 -->\r\n<g id=\"node4\" class=\"node\">\r\n<title>3</title>\r\n<path fill=\"#4de88e\" stroke=\"black\" d=\"M501,-425C501,-425 360,-425 360,-425 354,-425 348,-419 348,-413 348,-413 348,-354 348,-354 348,-348 354,-342 360,-342 360,-342 501,-342 501,-342 507,-342 513,-348 513,-354 513,-354 513,-413 513,-413 513,-419 507,-425 501,-425\"/>\r\n<text text-anchor=\"start\" x=\"356\" y=\"-409.8\" font-family=\"Helvetica,sans-Serif\" font-size=\"14.00\">petal length (cm) ≤ 4.95</text>\r\n<text text-anchor=\"start\" x=\"393\" y=\"-394.8\" font-family=\"Helvetica,sans-Serif\" font-size=\"14.00\">gini = 0.168</text>\r\n<text text-anchor=\"start\" x=\"387\" y=\"-379.8\" font-family=\"Helvetica,sans-Serif\" font-size=\"14.00\">samples = 54</text>\r\n<text text-anchor=\"start\" x=\"378\" y=\"-364.8\" font-family=\"Helvetica,sans-Serif\" font-size=\"14.00\">value = [0, 49, 5]</text>\r\n<text text-anchor=\"start\" x=\"375\" y=\"-349.8\" font-family=\"Helvetica,sans-Serif\" font-size=\"14.00\">class = versicolor</text>\r\n</g>\r\n<!-- 2&#45;&gt;3 -->\r\n<g id=\"edge3\" class=\"edge\">\r\n<title>2&#45;&gt;3</title>\r\n<path fill=\"none\" stroke=\"black\" d=\"M506.91,-460.91C497.65,-451.65 487.73,-441.73 478.21,-432.21\"/>\r\n<polygon fill=\"black\" stroke=\"black\" points=\"480.57,-429.62 471.02,-425.02 475.62,-434.57 480.57,-429.62\"/>\r\n</g>\r\n<!-- 12 -->\r\n<g id=\"node13\" class=\"node\">\r\n<title>12</title>\r\n<path fill=\"#843de6\" stroke=\"black\" d=\"M735,-425C735,-425 594,-425 594,-425 588,-425 582,-419 582,-413 582,-413 582,-354 582,-354 582,-348 588,-342 594,-342 594,-342 735,-342 735,-342 741,-342 747,-348 747,-354 747,-354 747,-413 747,-413 747,-419 741,-425 735,-425\"/>\r\n<text text-anchor=\"start\" x=\"590\" y=\"-409.8\" font-family=\"Helvetica,sans-Serif\" font-size=\"14.00\">petal length (cm) ≤ 4.85</text>\r\n<text text-anchor=\"start\" x=\"627\" y=\"-394.8\" font-family=\"Helvetica,sans-Serif\" font-size=\"14.00\">gini = 0.043</text>\r\n<text text-anchor=\"start\" x=\"621\" y=\"-379.8\" font-family=\"Helvetica,sans-Serif\" font-size=\"14.00\">samples = 46</text>\r\n<text text-anchor=\"start\" x=\"612\" y=\"-364.8\" font-family=\"Helvetica,sans-Serif\" font-size=\"14.00\">value = [0, 1, 45]</text>\r\n<text text-anchor=\"start\" x=\"614.5\" y=\"-349.8\" font-family=\"Helvetica,sans-Serif\" font-size=\"14.00\">class = virginica</text>\r\n</g>\r\n<!-- 2&#45;&gt;12 -->\r\n<g id=\"edge12\" class=\"edge\">\r\n<title>2&#45;&gt;12</title>\r\n<path fill=\"none\" stroke=\"black\" d=\"M588.09,-460.91C597.35,-451.65 607.27,-441.73 616.79,-432.21\"/>\r\n<polygon fill=\"black\" stroke=\"black\" points=\"619.38,-434.57 623.98,-425.02 614.43,-429.62 619.38,-434.57\"/>\r\n</g>\r\n<!-- 4 -->\r\n<g id=\"node5\" class=\"node\">\r\n<title>4</title>\r\n<path fill=\"#3de684\" stroke=\"black\" d=\"M271,-306C271,-306 136,-306 136,-306 130,-306 124,-300 124,-294 124,-294 124,-235 124,-235 124,-229 130,-223 136,-223 136,-223 271,-223 271,-223 277,-223 283,-229 283,-235 283,-235 283,-294 283,-294 283,-300 277,-306 271,-306\"/>\r\n<text text-anchor=\"start\" x=\"132\" y=\"-290.8\" font-family=\"Helvetica,sans-Serif\" font-size=\"14.00\">petal width (cm) ≤ 1.65</text>\r\n<text text-anchor=\"start\" x=\"166\" y=\"-275.8\" font-family=\"Helvetica,sans-Serif\" font-size=\"14.00\">gini = 0.041</text>\r\n<text text-anchor=\"start\" x=\"160\" y=\"-260.8\" font-family=\"Helvetica,sans-Serif\" font-size=\"14.00\">samples = 48</text>\r\n<text text-anchor=\"start\" x=\"151\" y=\"-245.8\" font-family=\"Helvetica,sans-Serif\" font-size=\"14.00\">value = [0, 47, 1]</text>\r\n<text text-anchor=\"start\" x=\"148\" y=\"-230.8\" font-family=\"Helvetica,sans-Serif\" font-size=\"14.00\">class = versicolor</text>\r\n</g>\r\n<!-- 3&#45;&gt;4 -->\r\n<g id=\"edge4\" class=\"edge\">\r\n<title>3&#45;&gt;4</title>\r\n<path fill=\"none\" stroke=\"black\" d=\"M351.74,-341.91C332.2,-331.83 311.13,-320.98 291.19,-310.7\"/>\r\n<polygon fill=\"black\" stroke=\"black\" points=\"292.61,-307.49 282.12,-306.02 289.4,-313.71 292.61,-307.49\"/>\r\n</g>\r\n<!-- 7 -->\r\n<g id=\"node8\" class=\"node\">\r\n<title>7</title>\r\n<path fill=\"#c09cf2\" stroke=\"black\" d=\"M498,-306C498,-306 363,-306 363,-306 357,-306 351,-300 351,-294 351,-294 351,-235 351,-235 351,-229 357,-223 363,-223 363,-223 498,-223 498,-223 504,-223 510,-229 510,-235 510,-235 510,-294 510,-294 510,-300 504,-306 498,-306\"/>\r\n<text text-anchor=\"start\" x=\"359\" y=\"-290.8\" font-family=\"Helvetica,sans-Serif\" font-size=\"14.00\">petal width (cm) ≤ 1.55</text>\r\n<text text-anchor=\"start\" x=\"393\" y=\"-275.8\" font-family=\"Helvetica,sans-Serif\" font-size=\"14.00\">gini = 0.444</text>\r\n<text text-anchor=\"start\" x=\"391\" y=\"-260.8\" font-family=\"Helvetica,sans-Serif\" font-size=\"14.00\">samples = 6</text>\r\n<text text-anchor=\"start\" x=\"382\" y=\"-245.8\" font-family=\"Helvetica,sans-Serif\" font-size=\"14.00\">value = [0, 2, 4]</text>\r\n<text text-anchor=\"start\" x=\"380.5\" y=\"-230.8\" font-family=\"Helvetica,sans-Serif\" font-size=\"14.00\">class = virginica</text>\r\n</g>\r\n<!-- 3&#45;&gt;7 -->\r\n<g id=\"edge7\" class=\"edge\">\r\n<title>3&#45;&gt;7</title>\r\n<path fill=\"none\" stroke=\"black\" d=\"M430.5,-341.91C430.5,-333.65 430.5,-324.86 430.5,-316.3\"/>\r\n<polygon fill=\"black\" stroke=\"black\" points=\"434,-316.02 430.5,-306.02 427,-316.02 434,-316.02\"/>\r\n</g>\r\n<!-- 5 -->\r\n<g id=\"node6\" class=\"node\">\r\n<title>5</title>\r\n<path fill=\"#39e581\" stroke=\"black\" d=\"M115,-179.5C115,-179.5 12,-179.5 12,-179.5 6,-179.5 0,-173.5 0,-167.5 0,-167.5 0,-123.5 0,-123.5 0,-117.5 6,-111.5 12,-111.5 12,-111.5 115,-111.5 115,-111.5 121,-111.5 127,-117.5 127,-123.5 127,-123.5 127,-167.5 127,-167.5 127,-173.5 121,-179.5 115,-179.5\"/>\r\n<text text-anchor=\"start\" x=\"34.5\" y=\"-164.3\" font-family=\"Helvetica,sans-Serif\" font-size=\"14.00\">gini = 0.0</text>\r\n<text text-anchor=\"start\" x=\"20\" y=\"-149.3\" font-family=\"Helvetica,sans-Serif\" font-size=\"14.00\">samples = 47</text>\r\n<text text-anchor=\"start\" x=\"11\" y=\"-134.3\" font-family=\"Helvetica,sans-Serif\" font-size=\"14.00\">value = [0, 47, 0]</text>\r\n<text text-anchor=\"start\" x=\"8\" y=\"-119.3\" font-family=\"Helvetica,sans-Serif\" font-size=\"14.00\">class = versicolor</text>\r\n</g>\r\n<!-- 4&#45;&gt;5 -->\r\n<g id=\"edge5\" class=\"edge\">\r\n<title>4&#45;&gt;5</title>\r\n<path fill=\"none\" stroke=\"black\" d=\"M154.93,-222.91C140.67,-210.99 125.09,-197.98 110.91,-186.12\"/>\r\n<polygon fill=\"black\" stroke=\"black\" points=\"113.1,-183.39 103.19,-179.67 108.62,-188.77 113.1,-183.39\"/>\r\n</g>\r\n<!-- 6 -->\r\n<g id=\"node7\" class=\"node\">\r\n<title>6</title>\r\n<path fill=\"#8139e5\" stroke=\"black\" d=\"M249.5,-179.5C249.5,-179.5 157.5,-179.5 157.5,-179.5 151.5,-179.5 145.5,-173.5 145.5,-167.5 145.5,-167.5 145.5,-123.5 145.5,-123.5 145.5,-117.5 151.5,-111.5 157.5,-111.5 157.5,-111.5 249.5,-111.5 249.5,-111.5 255.5,-111.5 261.5,-117.5 261.5,-123.5 261.5,-123.5 261.5,-167.5 261.5,-167.5 261.5,-173.5 255.5,-179.5 249.5,-179.5\"/>\r\n<text text-anchor=\"start\" x=\"174.5\" y=\"-164.3\" font-family=\"Helvetica,sans-Serif\" font-size=\"14.00\">gini = 0.0</text>\r\n<text text-anchor=\"start\" x=\"164\" y=\"-149.3\" font-family=\"Helvetica,sans-Serif\" font-size=\"14.00\">samples = 1</text>\r\n<text text-anchor=\"start\" x=\"155\" y=\"-134.3\" font-family=\"Helvetica,sans-Serif\" font-size=\"14.00\">value = [0, 0, 1]</text>\r\n<text text-anchor=\"start\" x=\"153.5\" y=\"-119.3\" font-family=\"Helvetica,sans-Serif\" font-size=\"14.00\">class = virginica</text>\r\n</g>\r\n<!-- 4&#45;&gt;6 -->\r\n<g id=\"edge6\" class=\"edge\">\r\n<title>4&#45;&gt;6</title>\r\n<path fill=\"none\" stroke=\"black\" d=\"M203.5,-222.91C203.5,-212.2 203.5,-200.62 203.5,-189.78\"/>\r\n<polygon fill=\"black\" stroke=\"black\" points=\"207,-189.67 203.5,-179.67 200,-189.67 207,-189.67\"/>\r\n</g>\r\n<!-- 8 -->\r\n<g id=\"node9\" class=\"node\">\r\n<title>8</title>\r\n<path fill=\"#8139e5\" stroke=\"black\" d=\"M383.5,-179.5C383.5,-179.5 291.5,-179.5 291.5,-179.5 285.5,-179.5 279.5,-173.5 279.5,-167.5 279.5,-167.5 279.5,-123.5 279.5,-123.5 279.5,-117.5 285.5,-111.5 291.5,-111.5 291.5,-111.5 383.5,-111.5 383.5,-111.5 389.5,-111.5 395.5,-117.5 395.5,-123.5 395.5,-123.5 395.5,-167.5 395.5,-167.5 395.5,-173.5 389.5,-179.5 383.5,-179.5\"/>\r\n<text text-anchor=\"start\" x=\"308.5\" y=\"-164.3\" font-family=\"Helvetica,sans-Serif\" font-size=\"14.00\">gini = 0.0</text>\r\n<text text-anchor=\"start\" x=\"298\" y=\"-149.3\" font-family=\"Helvetica,sans-Serif\" font-size=\"14.00\">samples = 3</text>\r\n<text text-anchor=\"start\" x=\"289\" y=\"-134.3\" font-family=\"Helvetica,sans-Serif\" font-size=\"14.00\">value = [0, 0, 3]</text>\r\n<text text-anchor=\"start\" x=\"287.5\" y=\"-119.3\" font-family=\"Helvetica,sans-Serif\" font-size=\"14.00\">class = virginica</text>\r\n</g>\r\n<!-- 7&#45;&gt;8 -->\r\n<g id=\"edge8\" class=\"edge\">\r\n<title>7&#45;&gt;8</title>\r\n<path fill=\"none\" stroke=\"black\" d=\"M398.23,-222.91C389.2,-211.54 379.37,-199.18 370.31,-187.77\"/>\r\n<polygon fill=\"black\" stroke=\"black\" points=\"372.83,-185.32 363.86,-179.67 367.35,-189.67 372.83,-185.32\"/>\r\n</g>\r\n<!-- 9 -->\r\n<g id=\"node10\" class=\"node\">\r\n<title>9</title>\r\n<path fill=\"#9cf2c0\" stroke=\"black\" d=\"M571,-187C571,-187 426,-187 426,-187 420,-187 414,-181 414,-175 414,-175 414,-116 414,-116 414,-110 420,-104 426,-104 426,-104 571,-104 571,-104 577,-104 583,-110 583,-116 583,-116 583,-175 583,-175 583,-181 577,-187 571,-187\"/>\r\n<text text-anchor=\"start\" x=\"422\" y=\"-171.8\" font-family=\"Helvetica,sans-Serif\" font-size=\"14.00\">sepal length (cm) ≤ 6.95</text>\r\n<text text-anchor=\"start\" x=\"461\" y=\"-156.8\" font-family=\"Helvetica,sans-Serif\" font-size=\"14.00\">gini = 0.444</text>\r\n<text text-anchor=\"start\" x=\"459\" y=\"-141.8\" font-family=\"Helvetica,sans-Serif\" font-size=\"14.00\">samples = 3</text>\r\n<text text-anchor=\"start\" x=\"450\" y=\"-126.8\" font-family=\"Helvetica,sans-Serif\" font-size=\"14.00\">value = [0, 2, 1]</text>\r\n<text text-anchor=\"start\" x=\"443\" y=\"-111.8\" font-family=\"Helvetica,sans-Serif\" font-size=\"14.00\">class = versicolor</text>\r\n</g>\r\n<!-- 7&#45;&gt;9 -->\r\n<g id=\"edge9\" class=\"edge\">\r\n<title>7&#45;&gt;9</title>\r\n<path fill=\"none\" stroke=\"black\" d=\"M454.09,-222.91C459.16,-214.2 464.56,-204.9 469.79,-195.89\"/>\r\n<polygon fill=\"black\" stroke=\"black\" points=\"472.95,-197.43 474.95,-187.02 466.9,-193.91 472.95,-197.43\"/>\r\n</g>\r\n<!-- 10 -->\r\n<g id=\"node11\" class=\"node\">\r\n<title>10</title>\r\n<path fill=\"#39e581\" stroke=\"black\" d=\"M480,-68C480,-68 377,-68 377,-68 371,-68 365,-62 365,-56 365,-56 365,-12 365,-12 365,-6 371,0 377,0 377,0 480,0 480,0 486,0 492,-6 492,-12 492,-12 492,-56 492,-56 492,-62 486,-68 480,-68\"/>\r\n<text text-anchor=\"start\" x=\"399.5\" y=\"-52.8\" font-family=\"Helvetica,sans-Serif\" font-size=\"14.00\">gini = 0.0</text>\r\n<text text-anchor=\"start\" x=\"389\" y=\"-37.8\" font-family=\"Helvetica,sans-Serif\" font-size=\"14.00\">samples = 2</text>\r\n<text text-anchor=\"start\" x=\"380\" y=\"-22.8\" font-family=\"Helvetica,sans-Serif\" font-size=\"14.00\">value = [0, 2, 0]</text>\r\n<text text-anchor=\"start\" x=\"373\" y=\"-7.8\" font-family=\"Helvetica,sans-Serif\" font-size=\"14.00\">class = versicolor</text>\r\n</g>\r\n<!-- 9&#45;&gt;10 -->\r\n<g id=\"edge10\" class=\"edge\">\r\n<title>9&#45;&gt;10</title>\r\n<path fill=\"none\" stroke=\"black\" d=\"M472.43,-103.73C466.84,-94.97 460.91,-85.7 455.29,-76.91\"/>\r\n<polygon fill=\"black\" stroke=\"black\" points=\"458.12,-74.84 449.79,-68.3 452.22,-78.61 458.12,-74.84\"/>\r\n</g>\r\n<!-- 11 -->\r\n<g id=\"node12\" class=\"node\">\r\n<title>11</title>\r\n<path fill=\"#8139e5\" stroke=\"black\" d=\"M614.5,-68C614.5,-68 522.5,-68 522.5,-68 516.5,-68 510.5,-62 510.5,-56 510.5,-56 510.5,-12 510.5,-12 510.5,-6 516.5,0 522.5,0 522.5,0 614.5,0 614.5,0 620.5,0 626.5,-6 626.5,-12 626.5,-12 626.5,-56 626.5,-56 626.5,-62 620.5,-68 614.5,-68\"/>\r\n<text text-anchor=\"start\" x=\"539.5\" y=\"-52.8\" font-family=\"Helvetica,sans-Serif\" font-size=\"14.00\">gini = 0.0</text>\r\n<text text-anchor=\"start\" x=\"529\" y=\"-37.8\" font-family=\"Helvetica,sans-Serif\" font-size=\"14.00\">samples = 1</text>\r\n<text text-anchor=\"start\" x=\"520\" y=\"-22.8\" font-family=\"Helvetica,sans-Serif\" font-size=\"14.00\">value = [0, 0, 1]</text>\r\n<text text-anchor=\"start\" x=\"518.5\" y=\"-7.8\" font-family=\"Helvetica,sans-Serif\" font-size=\"14.00\">class = virginica</text>\r\n</g>\r\n<!-- 9&#45;&gt;11 -->\r\n<g id=\"edge11\" class=\"edge\">\r\n<title>9&#45;&gt;11</title>\r\n<path fill=\"none\" stroke=\"black\" d=\"M524.57,-103.73C530.16,-94.97 536.09,-85.7 541.71,-76.91\"/>\r\n<polygon fill=\"black\" stroke=\"black\" points=\"544.78,-78.61 547.21,-68.3 538.88,-74.84 544.78,-78.61\"/>\r\n</g>\r\n<!-- 13 -->\r\n<g id=\"node14\" class=\"node\">\r\n<title>13</title>\r\n<path fill=\"#c09cf2\" stroke=\"black\" d=\"M737,-306C737,-306 592,-306 592,-306 586,-306 580,-300 580,-294 580,-294 580,-235 580,-235 580,-229 586,-223 592,-223 592,-223 737,-223 737,-223 743,-223 749,-229 749,-235 749,-235 749,-294 749,-294 749,-300 743,-306 737,-306\"/>\r\n<text text-anchor=\"start\" x=\"588\" y=\"-290.8\" font-family=\"Helvetica,sans-Serif\" font-size=\"14.00\">sepal length (cm) ≤ 5.95</text>\r\n<text text-anchor=\"start\" x=\"627\" y=\"-275.8\" font-family=\"Helvetica,sans-Serif\" font-size=\"14.00\">gini = 0.444</text>\r\n<text text-anchor=\"start\" x=\"625\" y=\"-260.8\" font-family=\"Helvetica,sans-Serif\" font-size=\"14.00\">samples = 3</text>\r\n<text text-anchor=\"start\" x=\"616\" y=\"-245.8\" font-family=\"Helvetica,sans-Serif\" font-size=\"14.00\">value = [0, 1, 2]</text>\r\n<text text-anchor=\"start\" x=\"614.5\" y=\"-230.8\" font-family=\"Helvetica,sans-Serif\" font-size=\"14.00\">class = virginica</text>\r\n</g>\r\n<!-- 12&#45;&gt;13 -->\r\n<g id=\"edge13\" class=\"edge\">\r\n<title>12&#45;&gt;13</title>\r\n<path fill=\"none\" stroke=\"black\" d=\"M664.5,-341.91C664.5,-333.65 664.5,-324.86 664.5,-316.3\"/>\r\n<polygon fill=\"black\" stroke=\"black\" points=\"668,-316.02 664.5,-306.02 661,-316.02 668,-316.02\"/>\r\n</g>\r\n<!-- 16 -->\r\n<g id=\"node17\" class=\"node\">\r\n<title>16</title>\r\n<path fill=\"#8139e5\" stroke=\"black\" d=\"M876,-298.5C876,-298.5 779,-298.5 779,-298.5 773,-298.5 767,-292.5 767,-286.5 767,-286.5 767,-242.5 767,-242.5 767,-236.5 773,-230.5 779,-230.5 779,-230.5 876,-230.5 876,-230.5 882,-230.5 888,-236.5 888,-242.5 888,-242.5 888,-286.5 888,-286.5 888,-292.5 882,-298.5 876,-298.5\"/>\r\n<text text-anchor=\"start\" x=\"798.5\" y=\"-283.3\" font-family=\"Helvetica,sans-Serif\" font-size=\"14.00\">gini = 0.0</text>\r\n<text text-anchor=\"start\" x=\"784\" y=\"-268.3\" font-family=\"Helvetica,sans-Serif\" font-size=\"14.00\">samples = 43</text>\r\n<text text-anchor=\"start\" x=\"775\" y=\"-253.3\" font-family=\"Helvetica,sans-Serif\" font-size=\"14.00\">value = [0, 0, 43]</text>\r\n<text text-anchor=\"start\" x=\"777.5\" y=\"-238.3\" font-family=\"Helvetica,sans-Serif\" font-size=\"14.00\">class = virginica</text>\r\n</g>\r\n<!-- 12&#45;&gt;16 -->\r\n<g id=\"edge16\" class=\"edge\">\r\n<title>12&#45;&gt;16</title>\r\n<path fill=\"none\" stroke=\"black\" d=\"M721.05,-341.91C737.81,-329.88 756.12,-316.73 772.76,-304.79\"/>\r\n<polygon fill=\"black\" stroke=\"black\" points=\"775.21,-307.34 781.29,-298.67 771.13,-301.65 775.21,-307.34\"/>\r\n</g>\r\n<!-- 14 -->\r\n<g id=\"node15\" class=\"node\">\r\n<title>14</title>\r\n<path fill=\"#39e581\" stroke=\"black\" d=\"M716,-179.5C716,-179.5 613,-179.5 613,-179.5 607,-179.5 601,-173.5 601,-167.5 601,-167.5 601,-123.5 601,-123.5 601,-117.5 607,-111.5 613,-111.5 613,-111.5 716,-111.5 716,-111.5 722,-111.5 728,-117.5 728,-123.5 728,-123.5 728,-167.5 728,-167.5 728,-173.5 722,-179.5 716,-179.5\"/>\r\n<text text-anchor=\"start\" x=\"635.5\" y=\"-164.3\" font-family=\"Helvetica,sans-Serif\" font-size=\"14.00\">gini = 0.0</text>\r\n<text text-anchor=\"start\" x=\"625\" y=\"-149.3\" font-family=\"Helvetica,sans-Serif\" font-size=\"14.00\">samples = 1</text>\r\n<text text-anchor=\"start\" x=\"616\" y=\"-134.3\" font-family=\"Helvetica,sans-Serif\" font-size=\"14.00\">value = [0, 1, 0]</text>\r\n<text text-anchor=\"start\" x=\"609\" y=\"-119.3\" font-family=\"Helvetica,sans-Serif\" font-size=\"14.00\">class = versicolor</text>\r\n</g>\r\n<!-- 13&#45;&gt;14 -->\r\n<g id=\"edge14\" class=\"edge\">\r\n<title>13&#45;&gt;14</title>\r\n<path fill=\"none\" stroke=\"black\" d=\"M664.5,-222.91C664.5,-212.2 664.5,-200.62 664.5,-189.78\"/>\r\n<polygon fill=\"black\" stroke=\"black\" points=\"668,-189.67 664.5,-179.67 661,-189.67 668,-189.67\"/>\r\n</g>\r\n<!-- 15 -->\r\n<g id=\"node16\" class=\"node\">\r\n<title>15</title>\r\n<path fill=\"#8139e5\" stroke=\"black\" d=\"M850.5,-179.5C850.5,-179.5 758.5,-179.5 758.5,-179.5 752.5,-179.5 746.5,-173.5 746.5,-167.5 746.5,-167.5 746.5,-123.5 746.5,-123.5 746.5,-117.5 752.5,-111.5 758.5,-111.5 758.5,-111.5 850.5,-111.5 850.5,-111.5 856.5,-111.5 862.5,-117.5 862.5,-123.5 862.5,-123.5 862.5,-167.5 862.5,-167.5 862.5,-173.5 856.5,-179.5 850.5,-179.5\"/>\r\n<text text-anchor=\"start\" x=\"775.5\" y=\"-164.3\" font-family=\"Helvetica,sans-Serif\" font-size=\"14.00\">gini = 0.0</text>\r\n<text text-anchor=\"start\" x=\"765\" y=\"-149.3\" font-family=\"Helvetica,sans-Serif\" font-size=\"14.00\">samples = 2</text>\r\n<text text-anchor=\"start\" x=\"756\" y=\"-134.3\" font-family=\"Helvetica,sans-Serif\" font-size=\"14.00\">value = [0, 0, 2]</text>\r\n<text text-anchor=\"start\" x=\"754.5\" y=\"-119.3\" font-family=\"Helvetica,sans-Serif\" font-size=\"14.00\">class = virginica</text>\r\n</g>\r\n<!-- 13&#45;&gt;15 -->\r\n<g id=\"edge15\" class=\"edge\">\r\n<title>13&#45;&gt;15</title>\r\n<path fill=\"none\" stroke=\"black\" d=\"M713.07,-222.91C727.33,-210.99 742.91,-197.98 757.09,-186.12\"/>\r\n<polygon fill=\"black\" stroke=\"black\" points=\"759.38,-188.77 764.81,-179.67 754.9,-183.39 759.38,-188.77\"/>\r\n</g>\r\n</g>\r\n</svg>\r\n",
      "text/plain": [
       "<graphviz.files.Source at 0x171cee07d60>"
      ]
     },
     "execution_count": 1,
     "metadata": {},
     "output_type": "execute_result"
    }
   ],
   "source": [
    "%matplotlib inline\n",
    "import graphviz\n",
    "import numpy as np\n",
    "import matplotlib.pyplot as plt\n",
    "import sklearn.tree as skt\n",
    "import sklearn.datasets as skd\n",
    "\n",
    "iris=skd.load_iris()\n",
    "X,y=iris.data,iris.target\n",
    "clf=skt.DecisionTreeClassifier()\n",
    "clf.fit(X,y)\n",
    "# 画出决策树\n",
    "dot_data=skt.export_graphviz(clf,out_file=None,feature_names=iris.feature_names,\n",
    "class_names=iris.target_names,filled=True,rounded=True,special_characters=True)\n",
    "graph=graphviz.Source(dot_data)\n",
    "graph"
   ]
  },
  {
   "cell_type": "code",
   "execution_count": 3,
   "metadata": {},
   "outputs": [
    {
     "data": {
      "image/png": "[encoded data removed]",
      "text/plain": [
       "<Figure size 432x288 with 1 Axes>"
      ]
     },
     "metadata": {
      "needs_background": "light"
     },
     "output_type": "display_data"
    }
   ],
   "source": [
    "import numpy as np\n",
    "import matplotlib.pyplot as plt\n",
    "x=np.arange(-5,5,0.01)\n",
    "y1=1/(1+np.exp(-x))\n",
    "y2=(np.exp(-x))/(1+np.exp(-x))**2\n",
    "\n",
    "plt.plot(x,y1,label='distribution')\n",
    "plt.plot(x,y2,label='density')\n",
    "\n",
    "plt.legend()\n",
    "\n",
    "ax=plt.gca()\n",
    "ax.spines['top'].set_color('None')\n",
    "ax.spines['right'].set_color('None')\n",
    "\n",
    "ax.xaxis.set_ticks_position('bottom')\n",
    "ax.yaxis.set_ticks_position('left')\n",
    "\n",
    "ax.spines['bottom'].set_position(('data', 0))\n",
    "ax.spines['left'].set_position(('data', 0))"
   ]
  },
  {
   "cell_type": "code",
   "execution_count": null,
   "metadata": {},
   "outputs": [],
   "source": []
  }
 ],
 "metadata": {
  "interpreter": {
   "hash": "d015290a3c9952a9a6018773bec161cba20ff6dc71b3c5cd547a7c1fd0a07fb7"
  },
  "kernelspec": {
   "display_name": "Python 3.9.5 64-bit",
   "name": "python3"
  },
  "language_info": {
   "codemirror_mode": {
    "name": "ipython",
    "version": 3
   },
   "file_extension": ".py",
   "mimetype": "text/x-python",
   "name": "python",
   "nbconvert_exporter": "python",
   "pygments_lexer": "ipython3",
   "version": "3.9.5"
  },
  "orig_nbformat": 4
 },
 "nbformat": 4,
 "nbformat_minor": 2
}
